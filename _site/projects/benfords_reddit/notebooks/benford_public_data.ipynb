{
 "cells": [
  {
   "cell_type": "code",
   "execution_count": 1,
   "metadata": {},
   "outputs": [],
   "source": [
    "import pandas as pd\n",
    "import altair as alt"
   ]
  },
  {
   "cell_type": "markdown",
   "metadata": {},
   "source": [
    "#### Benford's Law"
   ]
  },
  {
   "cell_type": "code",
   "execution_count": 2,
   "metadata": {},
   "outputs": [],
   "source": [
    "benford_prob = [[1, 30.1],\n",
    "                [2, 17.6],\n",
    "                [3, 12.5],\n",
    "                [4, 9.7],\n",
    "                [5, 7.9],\n",
    "                [6, 6.7],\n",
    "                [7, 5.8],\n",
    "                [8, 5.1],\n",
    "                [9, 4.6]]\n",
    "benford_prob = pd.DataFrame(benford_prob, columns=['num', 'freq'])\n",
    "benford_prob['freq'] = benford_prob['freq'] / 100\n",
    "benford_prob['dataset'] = 'Benfords Law'"
   ]
  },
  {
   "cell_type": "markdown",
   "metadata": {},
   "source": [
    "### Fibonacci Series"
   ]
  },
  {
   "cell_type": "code",
   "execution_count": 3,
   "metadata": {},
   "outputs": [],
   "source": [
    "fib = pd.read_csv('../data/fib.txt', ' ', names=['iter', 'num'])\n",
    "fib['digit'] = fib['num'].apply(lambda x: str(x)[0]).astype(int)\n",
    "fib = fib[fib['digit'] > 0]\n",
    "\n",
    "fib = fib['digit'].value_counts().sort_values().reset_index()\n",
    "\n",
    "fib.columns = ['num', 'count']\n",
    "fib['freq'] = fib['count'] / fib['count'].sum()\n",
    "fib['dataset'] = 'Fibonacci'"
   ]
  },
  {
   "cell_type": "markdown",
   "metadata": {},
   "source": [
    "### Star Distances\n",
    "http://www.astronexus.com/hyg"
   ]
  },
  {
   "cell_type": "code",
   "execution_count": 4,
   "metadata": {},
   "outputs": [],
   "source": [
    "stars = pd.read_csv('../data/hygdata_v3.csv')\n",
    "\n",
    "stars['digit'] = stars['dist'].apply(lambda x: str(x)[0]).astype(int)\n",
    "stars = stars[stars['digit'] > 0]\n",
    "\n",
    "stars = stars['digit'].value_counts().sort_values().reset_index()\n",
    "stars.columns = ['num', 'count']\n",
    "stars['freq'] = stars['count'] / stars['count'].sum()\n",
    "stars['dataset'] = 'Star Distances'\n",
    "\n"
   ]
  },
  {
   "cell_type": "markdown",
   "metadata": {},
   "source": [
    "### City Populations\n",
    "https://public.opendatasoft.com/explore/dataset/worldcitiespop/"
   ]
  },
  {
   "cell_type": "code",
   "execution_count": 9,
   "metadata": {},
   "outputs": [],
   "source": [
    "pops = pd.read_csv('../data/worldcitiespop.csv', ';')\n",
    "pops = pops.dropna(subset=['Population'])\n",
    "pops = pops.drop_duplicates(subset=['Country', 'City', 'Region'])\n",
    "\n",
    "pops['digit'] = pops['Population'].apply(lambda x: str(x)[0]).astype(int)\n",
    "pops = pops[pops['digit'] > 0]\n",
    "\n",
    "pops = pops['digit'].value_counts().sort_values().reset_index()\n",
    "pops.columns = ['num', 'count']\n",
    "pops['freq'] = pops['count'] / pops['count'].sum()\n",
    "pops['dataset'] = 'City Populations'"
   ]
  },
  {
   "cell_type": "markdown",
   "metadata": {},
   "source": [
    "### Concat"
   ]
  },
  {
   "cell_type": "code",
   "execution_count": 14,
   "metadata": {},
   "outputs": [],
   "source": [
    "nums = pd.concat([benford_prob, stars, pops], sort=False).drop(columns=['count']).sort_values(['dataset', 'num'])\n",
    "long_nums = pd.pivot_table(nums, index=['dataset'], columns='num', values='freq').reset_index()\n",
    "wide = pd.pivot_table(nums, columns='dataset', index='num', values='freq').reset_index()"
   ]
  },
  {
   "cell_type": "code",
   "execution_count": 11,
   "metadata": {},
   "outputs": [
    {
     "data": {
      "text/html": [
       "<div>\n",
       "<style scoped>\n",
       "    .dataframe tbody tr th:only-of-type {\n",
       "        vertical-align: middle;\n",
       "    }\n",
       "\n",
       "    .dataframe tbody tr th {\n",
       "        vertical-align: top;\n",
       "    }\n",
       "\n",
       "    .dataframe thead th {\n",
       "        text-align: right;\n",
       "    }\n",
       "</style>\n",
       "<table border=\"1\" class=\"dataframe\">\n",
       "  <thead>\n",
       "    <tr style=\"text-align: right;\">\n",
       "      <th>num</th>\n",
       "      <th>1</th>\n",
       "      <th>2</th>\n",
       "      <th>3</th>\n",
       "      <th>4</th>\n",
       "      <th>5</th>\n",
       "      <th>6</th>\n",
       "      <th>7</th>\n",
       "      <th>8</th>\n",
       "      <th>9</th>\n",
       "    </tr>\n",
       "  </thead>\n",
       "  <tbody>\n",
       "    <tr>\n",
       "      <th>0</th>\n",
       "      <td>0.301000</td>\n",
       "      <td>0.176000</td>\n",
       "      <td>0.125000</td>\n",
       "      <td>0.097000</td>\n",
       "      <td>0.079000</td>\n",
       "      <td>0.067000</td>\n",
       "      <td>0.058000</td>\n",
       "      <td>0.051000</td>\n",
       "      <td>0.046000</td>\n",
       "    </tr>\n",
       "    <tr>\n",
       "      <th>1</th>\n",
       "      <td>0.300271</td>\n",
       "      <td>0.195873</td>\n",
       "      <td>0.136599</td>\n",
       "      <td>0.099229</td>\n",
       "      <td>0.074802</td>\n",
       "      <td>0.057295</td>\n",
       "      <td>0.047853</td>\n",
       "      <td>0.042539</td>\n",
       "      <td>0.045540</td>\n",
       "    </tr>\n",
       "    <tr>\n",
       "      <th>2</th>\n",
       "      <td>0.361917</td>\n",
       "      <td>0.197771</td>\n",
       "      <td>0.123423</td>\n",
       "      <td>0.083779</td>\n",
       "      <td>0.062142</td>\n",
       "      <td>0.049811</td>\n",
       "      <td>0.044059</td>\n",
       "      <td>0.039051</td>\n",
       "      <td>0.038048</td>\n",
       "    </tr>\n",
       "  </tbody>\n",
       "</table>\n",
       "</div>"
      ],
      "text/plain": [
       "num         1         2         3         4         5         6         7  \\\n",
       "0    0.301000  0.176000  0.125000  0.097000  0.079000  0.067000  0.058000   \n",
       "1    0.300271  0.195873  0.136599  0.099229  0.074802  0.057295  0.047853   \n",
       "2    0.361917  0.197771  0.123423  0.083779  0.062142  0.049811  0.044059   \n",
       "\n",
       "num         8         9  \n",
       "0    0.051000  0.046000  \n",
       "1    0.042539  0.045540  \n",
       "2    0.039051  0.038048  "
      ]
     },
     "execution_count": 11,
     "metadata": {},
     "output_type": "execute_result"
    }
   ],
   "source": [
    "long_nums = pd.pivot_table(nums, index=['dataset'], columns='num', values='freq').reset_index()\n",
    "long_nums = long_nums[range(1,10)]\n",
    "long_nums"
   ]
  },
  {
   "cell_type": "code",
   "execution_count": 16,
   "metadata": {},
   "outputs": [],
   "source": [
    "nums.to_csv('../data/star_dist_pops_benfords.csv', index=False)"
   ]
  },
  {
   "cell_type": "code",
   "execution_count": 150,
   "metadata": {},
   "outputs": [],
   "source": [
    "wide.to_csv('../data/star_dist_pops_benfords_wide.csv', index=False)"
   ]
  },
  {
   "cell_type": "code",
   "execution_count": 103,
   "metadata": {},
   "outputs": [
    {
     "data": {
      "text/html": [
       "\n",
       "<div id=\"altair-viz-2e4c1d91d2384ff4aedc626454d4f63d\"></div>\n",
       "<script type=\"text/javascript\">\n",
       "  (function(spec, embedOpt){\n",
       "    let outputDiv = document.currentScript.previousElementSibling;\n",
       "    if (outputDiv.id !== \"altair-viz-2e4c1d91d2384ff4aedc626454d4f63d\") {\n",
       "      outputDiv = document.getElementById(\"altair-viz-2e4c1d91d2384ff4aedc626454d4f63d\");\n",
       "    }\n",
       "    const paths = {\n",
       "      \"vega\": \"https://cdn.jsdelivr.net/npm//vega@5?noext\",\n",
       "      \"vega-lib\": \"https://cdn.jsdelivr.net/npm//vega-lib?noext\",\n",
       "      \"vega-lite\": \"https://cdn.jsdelivr.net/npm//vega-lite@4.8.1?noext\",\n",
       "      \"vega-embed\": \"https://cdn.jsdelivr.net/npm//vega-embed@6?noext\",\n",
       "    };\n",
       "\n",
       "    function loadScript(lib) {\n",
       "      return new Promise(function(resolve, reject) {\n",
       "        var s = document.createElement('script');\n",
       "        s.src = paths[lib];\n",
       "        s.async = true;\n",
       "        s.onload = () => resolve(paths[lib]);\n",
       "        s.onerror = () => reject(`Error loading script: ${paths[lib]}`);\n",
       "        document.getElementsByTagName(\"head\")[0].appendChild(s);\n",
       "      });\n",
       "    }\n",
       "\n",
       "    function showError(err) {\n",
       "      outputDiv.innerHTML = `<div class=\"error\" style=\"color:red;\">${err}</div>`;\n",
       "      throw err;\n",
       "    }\n",
       "\n",
       "    function displayChart(vegaEmbed) {\n",
       "      vegaEmbed(outputDiv, spec, embedOpt)\n",
       "        .catch(err => showError(`Javascript Error: ${err.message}<br>This usually means there's a typo in your chart specification. See the javascript console for the full traceback.`));\n",
       "    }\n",
       "\n",
       "    if(typeof define === \"function\" && define.amd) {\n",
       "      requirejs.config({paths});\n",
       "      require([\"vega-embed\"], displayChart, err => showError(`Error loading script: ${err.message}`));\n",
       "    } else if (typeof vegaEmbed === \"function\") {\n",
       "      displayChart(vegaEmbed);\n",
       "    } else {\n",
       "      loadScript(\"vega\")\n",
       "        .then(() => loadScript(\"vega-lite\"))\n",
       "        .then(() => loadScript(\"vega-embed\"))\n",
       "        .catch(showError)\n",
       "        .then(() => displayChart(vegaEmbed));\n",
       "    }\n",
       "  })({\"config\": {\"view\": {\"continuousWidth\": 400, \"continuousHeight\": 300}}, \"data\": {\"name\": \"data-28e0381412ecee46563c7e82eaba1ddc\"}, \"mark\": \"line\", \"encoding\": {\"color\": {\"type\": \"nominal\", \"field\": \"dataset\"}, \"x\": {\"type\": \"quantitative\", \"field\": \"num\"}, \"y\": {\"type\": \"quantitative\", \"field\": \"freq\"}}, \"$schema\": \"https://vega.github.io/schema/vega-lite/v4.8.1.json\", \"datasets\": {\"data-28e0381412ecee46563c7e82eaba1ddc\": [{\"num\": 1, \"freq\": 0.301, \"dataset\": \"benford_prob\", \"count\": null}, {\"num\": 2, \"freq\": 0.17600000000000002, \"dataset\": \"benford_prob\", \"count\": null}, {\"num\": 3, \"freq\": 0.125, \"dataset\": \"benford_prob\", \"count\": null}, {\"num\": 4, \"freq\": 0.09699999999999999, \"dataset\": \"benford_prob\", \"count\": null}, {\"num\": 5, \"freq\": 0.079, \"dataset\": \"benford_prob\", \"count\": null}, {\"num\": 6, \"freq\": 0.067, \"dataset\": \"benford_prob\", \"count\": null}, {\"num\": 7, \"freq\": 0.057999999999999996, \"dataset\": \"benford_prob\", \"count\": null}, {\"num\": 8, \"freq\": 0.051, \"dataset\": \"benford_prob\", \"count\": null}, {\"num\": 9, \"freq\": 0.046, \"dataset\": \"benford_prob\", \"count\": null}, {\"num\": 9, \"freq\": 0.038047703844899805, \"dataset\": \"star_distance\", \"count\": 4551.0}, {\"num\": 8, \"freq\": 0.03905093927917534, \"dataset\": \"star_distance\", \"count\": 4671.0}, {\"num\": 7, \"freq\": 0.0440587561552674, \"dataset\": \"star_distance\", \"count\": 5270.0}, {\"num\": 6, \"freq\": 0.049810639311780494, \"dataset\": \"star_distance\", \"count\": 5958.0}, {\"num\": 5, \"freq\": 0.062142074858083984, \"dataset\": \"star_distance\", \"count\": 7433.0}, {\"num\": 4, \"freq\": 0.08377851905729311, \"dataset\": \"star_distance\", \"count\": 10021.0}, {\"num\": 3, \"freq\": 0.12342303930174814, \"dataset\": \"star_distance\", \"count\": 14763.0}, {\"num\": 2, \"freq\": 0.1977711452768512, \"dataset\": \"star_distance\", \"count\": 23656.0}, {\"num\": 1, \"freq\": 0.36191718291490055, \"dataset\": \"star_distance\", \"count\": 43290.0}, {\"num\": 8, \"freq\": 0.042538557732388495, \"dataset\": \"populations\", \"count\": 2041.0}, {\"num\": 9, \"freq\": 0.04553980825343893, \"dataset\": \"populations\", \"count\": 2185.0}, {\"num\": 7, \"freq\": 0.04785327219674865, \"dataset\": \"populations\", \"count\": 2296.0}, {\"num\": 6, \"freq\": 0.05729470612755315, \"dataset\": \"populations\", \"count\": 2749.0}, {\"num\": 5, \"freq\": 0.0748020008336807, \"dataset\": \"populations\", \"count\": 3589.0}, {\"num\": 4, \"freq\": 0.0992288453522301, \"dataset\": \"populations\", \"count\": 4761.0}, {\"num\": 3, \"freq\": 0.1365985827428095, \"dataset\": \"populations\", \"count\": 6554.0}, {\"num\": 2, \"freq\": 0.19587328053355565, \"dataset\": \"populations\", \"count\": 9398.0}, {\"num\": 1, \"freq\": 0.3002709462275948, \"dataset\": \"populations\", \"count\": 14407.0}]}}, {\"mode\": \"vega-lite\"});\n",
       "</script>"
      ],
      "text/plain": [
       "alt.Chart(...)"
      ]
     },
     "execution_count": 103,
     "metadata": {},
     "output_type": "execute_result"
    }
   ],
   "source": [
    "alt.Chart(nums).mark_line().encode(\n",
    "    x=alt.X('num'),\n",
    "    y=alt.Y('freq'),\n",
    "    color='dataset')"
   ]
  },
  {
   "cell_type": "code",
   "execution_count": 144,
   "metadata": {},
   "outputs": [],
   "source": [
    "long_nums.to_json('../data/star_dist_pops_benfords.json', orient='values')"
   ]
  },
  {
   "cell_type": "code",
   "execution_count": null,
   "metadata": {},
   "outputs": [],
   "source": []
  }
 ],
 "metadata": {
  "kernelspec": {
   "display_name": "paul_py3.6",
   "language": "python",
   "name": "paul_py3.6"
  },
  "language_info": {
   "codemirror_mode": {
    "name": "ipython",
    "version": 3
   },
   "file_extension": ".py",
   "mimetype": "text/x-python",
   "name": "python",
   "nbconvert_exporter": "python",
   "pygments_lexer": "ipython3",
   "version": "3.6.7"
  }
 },
 "nbformat": 4,
 "nbformat_minor": 4
}
